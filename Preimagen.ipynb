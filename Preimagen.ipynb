{
 "cells": [
  {
   "cell_type": "code",
   "execution_count": 271,
   "id": "f7e529c4",
   "metadata": {},
   "outputs": [
    {
     "ename": "SyntaxError",
     "evalue": "invalid syntax (720863989.py, line 1)",
     "output_type": "error",
     "traceback": [
      "\u001b[1;36m  Input \u001b[1;32mIn [271]\u001b[1;36m\u001b[0m\n\u001b[1;33m    echo \"# Preimagen\" >> README.md\u001b[0m\n\u001b[1;37m         ^\u001b[0m\n\u001b[1;31mSyntaxError\u001b[0m\u001b[1;31m:\u001b[0m invalid syntax\n"
     ]
    }
   ],
   "source": [
    "echo \"# Preimagen\" >> README.md\n",
    "git init\n",
    "git add README.md\n",
    "git commit -m \"first commit\"\n",
    "git branch -M main\n",
    "git remote add origin https://github.com/Uketronico/Preimagen.git\n",
    "git push -u origin main"
   ]
  },
  {
   "cell_type": "markdown",
   "id": "053b7b78",
   "metadata": {},
   "source": [
    "# Problema 1"
   ]
  },
  {
   "cell_type": "code",
   "execution_count": 154,
   "id": "26dc53ce",
   "metadata": {},
   "outputs": [],
   "source": [
    "x = {-4,-3,-2,-1,0,1,2,3,4}\n",
    "y = {0,1,4,9,16}\n",
    "def f(x) : return x**2"
   ]
  },
  {
   "cell_type": "code",
   "execution_count": 155,
   "id": "4bcf0dc8",
   "metadata": {},
   "outputs": [],
   "source": [
    "def finv(f, E, D) :\n",
    "    yinv = set()\n",
    "    y = set()\n",
    "    x = set()\n",
    "    for n in D:\n",
    "        y.add(f(n))\n",
    "    for out in E :\n",
    "        if(out in y) :\n",
    "            for inp in D :\n",
    "                if (f(inp) == out) :\n",
    "                    x.add(inp)\n",
    "\n",
    "    return x"
   ]
  },
  {
   "cell_type": "code",
   "execution_count": 153,
   "id": "1490c30e",
   "metadata": {
    "scrolled": false
   },
   "outputs": [
    {
     "data": {
      "text/plain": [
       "{-4, -3, -2, -1, 0, 1, 2, 3, 4}"
      ]
     },
     "execution_count": 153,
     "metadata": {},
     "output_type": "execute_result"
    }
   ],
   "source": [
    "finv(f, y, x)"
   ]
  },
  {
   "cell_type": "markdown",
   "id": "ca3e2b27",
   "metadata": {},
   "source": [
    "# Problema 2"
   ]
  },
  {
   "cell_type": "code",
   "execution_count": 86,
   "id": "2ed91083",
   "metadata": {},
   "outputs": [],
   "source": [
    "tD = [{}, {0}, {-3,-1,1,3}, {-4,-2,2,4}, {-3,-1,0,1,3}, {-4,2,0,2,4}, {-4,-3,-2,-1,1,2,3,4}, {-4,-3,-2,-1,0,1,2,3,4}]\n",
    "tI = [{}, {0}, {1,9}, {4,16}, {0,1,9}, {0,4,16}, {1,4,9,16}, {0,1,4,9,16}]"
   ]
  },
  {
   "cell_type": "code",
   "execution_count": 176,
   "id": "bb23cf38",
   "metadata": {},
   "outputs": [],
   "source": [
    "def finvtopo(f, E, D) :\n",
    "    yinv = list()\n",
    "    for e in E :\n",
    "        for d in D :\n",
    "            inv = set((finv(f,e,d)))\n",
    "            if inv not in yinv:\n",
    "                yinv.append(inv)\n",
    "    return yinv"
   ]
  },
  {
   "cell_type": "code",
   "execution_count": 177,
   "id": "8a2a76aa",
   "metadata": {
    "scrolled": false
   },
   "outputs": [
    {
     "data": {
      "text/plain": [
       "[set(),\n",
       " {0},\n",
       " {-3, -1, 1, 3},\n",
       " {-4, -2, 2, 4},\n",
       " {-4, 2, 4},\n",
       " {-3, -1, 0, 1, 3},\n",
       " {-4, 0, 2, 4},\n",
       " {-4, -2, 0, 2, 4},\n",
       " {-4, -3, -2, -1, 1, 2, 3, 4},\n",
       " {-4, -3, -2, -1, 0, 1, 2, 3, 4}]"
      ]
     },
     "execution_count": 177,
     "metadata": {},
     "output_type": "execute_result"
    }
   ],
   "source": [
    "finvtopo(f, tI, tD)"
   ]
  },
  {
   "cell_type": "markdown",
   "id": "a46d17ee",
   "metadata": {},
   "source": [
    "# Problema 3"
   ]
  },
  {
   "cell_type": "code",
   "execution_count": 207,
   "id": "7de2a5d5",
   "metadata": {},
   "outputs": [],
   "source": [
    "def esContinua(f, tD, tI) :\n",
    "    for i in tI:\n",
    "        sale = 0\n",
    "        for d in tD :\n",
    "            if(finv(f, i, d) in tD) :\n",
    "                sale = 1\n",
    "            else :\n",
    "                sale = 0\n",
    "        if(sale == 0) :\n",
    "            return 'No es continua'\n",
    "    return 'Es continua'"
   ]
  },
  {
   "cell_type": "code",
   "execution_count": 258,
   "id": "6ae0bae6",
   "metadata": {},
   "outputs": [],
   "source": [
    "def discreteTopo(X) :\n",
    "    discrete = []\n",
    "    discrete.append(set())\n",
    "    while len(discrete) != 2**len(X) :\n",
    "        for x in X :\n",
    "            for y in discrete :\n",
    "                #print({x})\n",
    "                union = y.union({x})\n",
    "                if(union not in discrete) :\n",
    "                    discrete.append(union)\n",
    "    return discrete\n",
    "                \n",
    "        "
   ]
  },
  {
   "cell_type": "markdown",
   "id": "c2691893",
   "metadata": {},
   "source": [
    "a)"
   ]
  },
  {
   "cell_type": "code",
   "execution_count": 224,
   "id": "908743f8",
   "metadata": {},
   "outputs": [
    {
     "data": {
      "text/plain": [
       "'Es continua'"
      ]
     },
     "execution_count": 224,
     "metadata": {},
     "output_type": "execute_result"
    }
   ],
   "source": [
    "tD = [set(), x]\n",
    "tI = [set(), y]\n",
    "esContinua(f, tD, tI)"
   ]
  },
  {
   "cell_type": "markdown",
   "id": "c8b52e65",
   "metadata": {},
   "source": [
    "b)"
   ]
  },
  {
   "cell_type": "code",
   "execution_count": 265,
   "id": "80574ce7",
   "metadata": {},
   "outputs": [
    {
     "data": {
      "text/plain": [
       "'Es continua'"
      ]
     },
     "execution_count": 265,
     "metadata": {},
     "output_type": "execute_result"
    }
   ],
   "source": [
    "tI = discreteTopo(y)\n",
    "def f2(x) : return 0\n",
    "esContinua(f2, tI, tI)"
   ]
  },
  {
   "cell_type": "markdown",
   "id": "3b9c21d8",
   "metadata": {},
   "source": [
    "c)"
   ]
  },
  {
   "cell_type": "code",
   "execution_count": 267,
   "id": "bd725899",
   "metadata": {
    "scrolled": true
   },
   "outputs": [
    {
     "data": {
      "text/plain": [
       "'Es continua'"
      ]
     },
     "execution_count": 267,
     "metadata": {},
     "output_type": "execute_result"
    }
   ],
   "source": [
    "tD = discreteTopo(x)\n",
    "def f3(x) : return -x\n",
    "esContinua(f3, tD, tD)"
   ]
  },
  {
   "cell_type": "markdown",
   "id": "bd41b2ec",
   "metadata": {},
   "source": [
    "d)"
   ]
  },
  {
   "cell_type": "code",
   "execution_count": 270,
   "id": "2ae912c1",
   "metadata": {},
   "outputs": [
    {
     "data": {
      "text/plain": [
       "'Es continua'"
      ]
     },
     "execution_count": 270,
     "metadata": {},
     "output_type": "execute_result"
    }
   ],
   "source": [
    "tD = [set(), {0},{-4,-3,-2,-1}, {1,2,3,4}, {0,1,2,3,4}, {0,-1,-2,-3,-4},{-4,-3,-2,-1,1,2,3,4}, x]\n",
    "esContinua(f3, tD, tD)"
   ]
  }
 ],
 "metadata": {
  "kernelspec": {
   "display_name": "Python 3 (ipykernel)",
   "language": "python",
   "name": "python3"
  },
  "language_info": {
   "codemirror_mode": {
    "name": "ipython",
    "version": 3
   },
   "file_extension": ".py",
   "mimetype": "text/x-python",
   "name": "python",
   "nbconvert_exporter": "python",
   "pygments_lexer": "ipython3",
   "version": "3.9.7"
  }
 },
 "nbformat": 4,
 "nbformat_minor": 5
}
